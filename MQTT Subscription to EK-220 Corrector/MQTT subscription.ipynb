{
 "cells": [
  {
   "cell_type": "markdown",
   "metadata": {},
   "source": [
    "Install MQTT connection tool for Python."
   ]
  },
  {
   "cell_type": "code",
   "execution_count": 35,
   "metadata": {},
   "outputs": [
    {
     "name": "stdout",
     "output_type": "stream",
     "text": [
      "Requirement already satisfied: paho-mqtt in c:\\programdata\\anaconda3\\lib\\site-packages (1.6.1)\n",
      "Note: you may need to restart the kernel to use updated packages.\n"
     ]
    }
   ],
   "source": [
    "pip install paho-mqtt"
   ]
  },
  {
   "cell_type": "markdown",
   "metadata": {},
   "source": [
    "Subscribe to the relevant topic which publishes the real time data of EK-220 electronic volume corrector.\n",
    "    \n",
    "Create a dictionary of parameters depending on the data received and append the message payload to the dictionary appropriately.\n",
    "    \n",
    "Interrupt the kernel to finish your test when enough amount of data is received."
   ]
  },
  {
   "cell_type": "code",
   "execution_count": 1,
   "metadata": {
    "scrolled": false
   },
   "outputs": [
    {
     "name": "stdout",
     "output_type": "stream",
     "text": [
      "Connecting to broker.\n",
      "Sending CONNECT (u1, p1, wr0, wq0, wf0, c1, k60) client_id=b'Erturk'\n",
      "Received CONNACK (0, 0)\n",
      "Connected with result code 0\n",
      "Sending SUBSCRIBE (d0, m1) [(b'ek220', 0)]\n",
      "Received SUBACK\n",
      "Received PUBLISH (d0, q0, r0, m0), 'ek220', ...  (436 bytes)\n",
      "ek220 b'{\"1\":\"12.04.22.20 11:59:40\",\"2\":\"190507.400\",\"3\":\"0.0\",\"4\":\"194476.7196\",\"5\":\"0.0\",\"6\":\"24\",\"7\":\"52.3000\",\"8\":\"53.4000\",\"9\":\"1.0370\",\"10\":\"20.7200\",\"11\":\"1.0210\",\"12\":\"0.9999\",\"13\":\"0.8313\",\"14\":\"Nerimanov\",\"15\":\"0\",\"16\":\"0\",\"17\":\"0\",\"18\":\"0\",\"19\":\"0\",\"20\":\"0\",\"21\":\"0\",\"22\":\"0\",\"23\":\"0\",\"24\":\"0\",\"25\":\"0\",\"26\":\"45056\",\"27\":\"4096\",\"28\":\"40960\",\"29\":\"0\",\"30\":\"32768\",\"31\":\"8192\",\"32\":\"8192\",\"33\":\"0\",\"34\":\"0\",\"35\":\"0\",\"36\":\"0\",\"37\":\"30\"}'\n",
      "Received PUBLISH (d0, q0, r0, m0), 'ek220', ...  (436 bytes)\n",
      "ek220 b'{\"1\":\"12.04.22.20 12:00:02\",\"2\":\"190507.3400\",\"3\":\"0.0\",\"4\":\"194477.269\",\"5\":\"0.0\",\"6\":\"24\",\"7\":\"52.8000\",\"8\":\"54.0000\",\"9\":\"1.0392\",\"10\":\"20.7800\",\"11\":\"1.0229\",\"12\":\"1.0000\",\"13\":\"0.8313\",\"14\":\"Nerimanov\",\"15\":\"0\",\"16\":\"0\",\"17\":\"0\",\"18\":\"0\",\"19\":\"0\",\"20\":\"0\",\"21\":\"0\",\"22\":\"0\",\"23\":\"0\",\"24\":\"0\",\"25\":\"0\",\"26\":\"45056\",\"27\":\"4096\",\"28\":\"40960\",\"29\":\"0\",\"30\":\"32768\",\"31\":\"8192\",\"32\":\"8192\",\"33\":\"0\",\"34\":\"0\",\"35\":\"0\",\"36\":\"0\",\"37\":\"30\"}'\n",
      "Sending PINGREQ\n",
      "Received PINGRESP\n",
      "Sending PINGREQ\n",
      "Received PINGRESP\n",
      "Received PUBLISH (d0, q0, r0, m0), 'ek220', ...  (435 bytes)\n",
      "ek220 b'{\"1\":\"12.04.22.20 12:01:50\",\"2\":\"190507.6400\",\"3\":\"0.0\",\"4\":\"194477.3353\",\"5\":\"0.0\",\"6\":\"24\",\"7\":\"4.0000\",\"8\":\"4.1500\",\"9\":\"1.0549\",\"10\":\"20.8700\",\"11\":\"1.0382\",\"12\":\"0.9999\",\"13\":\"0.8313\",\"14\":\"Nerimanov\",\"15\":\"0\",\"16\":\"0\",\"17\":\"0\",\"18\":\"0\",\"19\":\"0\",\"20\":\"0\",\"21\":\"0\",\"22\":\"0\",\"23\":\"0\",\"24\":\"0\",\"25\":\"0\",\"26\":\"45056\",\"27\":\"4096\",\"28\":\"40960\",\"29\":\"0\",\"30\":\"32768\",\"31\":\"8192\",\"32\":\"8192\",\"33\":\"0\",\"34\":\"0\",\"35\":\"0\",\"36\":\"0\",\"37\":\"30\"}'\n",
      "Received PUBLISH (d0, q0, r0, m0), 'ek220', ...  (435 bytes)\n",
      "ek220 b'{\"1\":\"12.04.22.20 12:02:12\",\"2\":\"190507.6400\",\"3\":\"0.0\",\"4\":\"194477.3353\",\"5\":\"0.0\",\"6\":\"24\",\"7\":\"3.2000\",\"8\":\"3.3100\",\"9\":\"1.0512\",\"10\":\"20.8400\",\"11\":\"1.0347\",\"12\":\"0.9998\",\"13\":\"0.8313\",\"14\":\"Nerimanov\",\"15\":\"0\",\"16\":\"0\",\"17\":\"0\",\"18\":\"0\",\"19\":\"0\",\"20\":\"0\",\"21\":\"0\",\"22\":\"0\",\"23\":\"0\",\"24\":\"0\",\"25\":\"0\",\"26\":\"45056\",\"27\":\"4096\",\"28\":\"40960\",\"29\":\"0\",\"30\":\"32768\",\"31\":\"8192\",\"32\":\"8192\",\"33\":\"0\",\"34\":\"0\",\"35\":\"0\",\"36\":\"0\",\"37\":\"30\"}'\n",
      "Sending PINGREQ\n",
      "Received PINGRESP\n",
      "Received PUBLISH (d0, q0, r0, m0), 'ek220', ...  (435 bytes)\n",
      "ek220 b'{\"1\":\"12.04.22.20 12:02:34\",\"2\":\"190507.6400\",\"3\":\"0.0\",\"4\":\"194477.3353\",\"5\":\"0.0\",\"6\":\"24\",\"7\":\"2.7000\",\"8\":\"2.7800\",\"9\":\"1.0485\",\"10\":\"20.8400\",\"11\":\"1.0319\",\"12\":\"0.9999\",\"13\":\"0.8313\",\"14\":\"Nerimanov\",\"15\":\"0\",\"16\":\"0\",\"17\":\"0\",\"18\":\"0\",\"19\":\"0\",\"20\":\"0\",\"21\":\"0\",\"22\":\"0\",\"23\":\"0\",\"24\":\"0\",\"25\":\"0\",\"26\":\"45056\",\"27\":\"4096\",\"28\":\"40960\",\"29\":\"0\",\"30\":\"32768\",\"31\":\"8192\",\"32\":\"8192\",\"33\":\"0\",\"34\":\"0\",\"35\":\"0\",\"36\":\"0\",\"37\":\"30\"}'\n",
      "Received PUBLISH (d0, q0, r0, m0), 'ek220', ...  (435 bytes)\n",
      "ek220 b'{\"1\":\"12.04.22.20 12:02:54\",\"2\":\"190507.6400\",\"3\":\"0.0\",\"4\":\"194477.3353\",\"5\":\"0.0\",\"6\":\"24\",\"7\":\"2.3000\",\"8\":\"2.3600\",\"9\":\"1.0467\",\"10\":\"20.8300\",\"11\":\"1.0301\",\"12\":\"1.0000\",\"13\":\"0.8313\",\"14\":\"Nerimanov\",\"15\":\"0\",\"16\":\"0\",\"17\":\"0\",\"18\":\"0\",\"19\":\"0\",\"20\":\"0\",\"21\":\"0\",\"22\":\"0\",\"23\":\"0\",\"24\":\"0\",\"25\":\"0\",\"26\":\"45056\",\"27\":\"4096\",\"28\":\"40960\",\"29\":\"0\",\"30\":\"32768\",\"31\":\"8192\",\"32\":\"8192\",\"33\":\"0\",\"34\":\"0\",\"35\":\"0\",\"36\":\"0\",\"37\":\"30\"}'\n",
      "Received PUBLISH (d0, q0, r0, m0), 'ek220', ...  (435 bytes)\n",
      "ek220 b'{\"1\":\"12.04.22.20 12:03:16\",\"2\":\"190507.6400\",\"3\":\"0.0\",\"4\":\"194477.3353\",\"5\":\"0.0\",\"6\":\"24\",\"7\":\"2.0000\",\"8\":\"2.0600\",\"9\":\"1.0467\",\"10\":\"20.8400\",\"11\":\"1.0301\",\"12\":\"0.9999\",\"13\":\"0.8313\",\"14\":\"Nerimanov\",\"15\":\"0\",\"16\":\"0\",\"17\":\"0\",\"18\":\"0\",\"19\":\"0\",\"20\":\"0\",\"21\":\"0\",\"22\":\"0\",\"23\":\"0\",\"24\":\"0\",\"25\":\"0\",\"26\":\"45056\",\"27\":\"4096\",\"28\":\"40960\",\"29\":\"0\",\"30\":\"32768\",\"31\":\"8192\",\"32\":\"8192\",\"33\":\"0\",\"34\":\"0\",\"35\":\"0\",\"36\":\"0\",\"37\":\"30\"}'\n",
      "Sending PINGREQ\n",
      "Received PINGRESP\n",
      "Received PUBLISH (d0, q0, r0, m0), 'ek220', ...  (435 bytes)\n",
      "ek220 b'{\"1\":\"12.04.22.20 12:03:38\",\"2\":\"190507.6400\",\"3\":\"0.0\",\"4\":\"194477.3353\",\"5\":\"0.0\",\"6\":\"24\",\"7\":\"1.8000\",\"8\":\"1.8500\",\"9\":\"1.0469\",\"10\":\"20.8300\",\"11\":\"1.0303\",\"12\":\"1.0000\",\"13\":\"0.8313\",\"14\":\"Nerimanov\",\"15\":\"0\",\"16\":\"0\",\"17\":\"0\",\"18\":\"0\",\"19\":\"0\",\"20\":\"0\",\"21\":\"0\",\"22\":\"0\",\"23\":\"0\",\"24\":\"0\",\"25\":\"0\",\"26\":\"45056\",\"27\":\"4096\",\"28\":\"40960\",\"29\":\"0\",\"30\":\"32768\",\"31\":\"8192\",\"32\":\"8192\",\"33\":\"0\",\"34\":\"0\",\"35\":\"0\",\"36\":\"0\",\"37\":\"30\"}'\n",
      "Received PUBLISH (d0, q0, r0, m0), 'ek220', ...  (435 bytes)\n",
      "ek220 b'{\"1\":\"12.04.22.20 12:04:00\",\"2\":\"190507.6400\",\"3\":\"0.0\",\"4\":\"194477.3353\",\"5\":\"0.0\",\"6\":\"24\",\"7\":\"1.6000\",\"8\":\"1.6400\",\"9\":\"1.0469\",\"10\":\"20.8300\",\"11\":\"1.0303\",\"12\":\"1.0000\",\"13\":\"0.8313\",\"14\":\"Nerimanov\",\"15\":\"0\",\"16\":\"0\",\"17\":\"0\",\"18\":\"0\",\"19\":\"0\",\"20\":\"0\",\"21\":\"0\",\"22\":\"0\",\"23\":\"0\",\"24\":\"0\",\"25\":\"0\",\"26\":\"45056\",\"27\":\"4096\",\"28\":\"40960\",\"29\":\"0\",\"30\":\"32768\",\"31\":\"8192\",\"32\":\"8192\",\"33\":\"0\",\"34\":\"0\",\"35\":\"0\",\"36\":\"0\",\"37\":\"30\"}'\n",
      "Received PUBLISH (d0, q0, r0, m0), 'ek220', ...  (435 bytes)\n",
      "ek220 b'{\"1\":\"12.04.22.20 12:04:22\",\"2\":\"190507.6400\",\"3\":\"0.0\",\"4\":\"194477.3353\",\"5\":\"0.0\",\"6\":\"24\",\"7\":\"1.4000\",\"8\":\"1.4400\",\"9\":\"1.0469\",\"10\":\"20.8500\",\"11\":\"1.0302\",\"12\":\"1.0000\",\"13\":\"0.8313\",\"14\":\"Nerimanov\",\"15\":\"0\",\"16\":\"0\",\"17\":\"0\",\"18\":\"0\",\"19\":\"0\",\"20\":\"0\",\"21\":\"0\",\"22\":\"0\",\"23\":\"0\",\"24\":\"0\",\"25\":\"0\",\"26\":\"45056\",\"27\":\"4096\",\"28\":\"40960\",\"29\":\"0\",\"30\":\"32768\",\"31\":\"8192\",\"32\":\"8192\",\"33\":\"0\",\"34\":\"0\",\"35\":\"0\",\"36\":\"0\",\"37\":\"30\"}'\n",
      "Sending PINGREQ\n",
      "Received PINGRESP\n",
      "Received PUBLISH (d0, q0, r0, m0), 'ek220', ...  (435 bytes)\n",
      "ek220 b'{\"1\":\"12.04.22.20 12:04:44\",\"2\":\"190507.7400\",\"3\":\"0.0\",\"4\":\"194477.4387\",\"5\":\"0.0\",\"6\":\"24\",\"7\":\"1.4000\",\"8\":\"1.4400\",\"9\":\"1.0452\",\"10\":\"20.8500\",\"11\":\"1.0288\",\"12\":\"0.9998\",\"13\":\"0.8313\",\"14\":\"Nerimanov\",\"15\":\"0\",\"16\":\"0\",\"17\":\"0\",\"18\":\"0\",\"19\":\"0\",\"20\":\"0\",\"21\":\"0\",\"22\":\"0\",\"23\":\"0\",\"24\":\"0\",\"25\":\"0\",\"26\":\"45056\",\"27\":\"4096\",\"28\":\"40960\",\"29\":\"0\",\"30\":\"32768\",\"31\":\"8192\",\"32\":\"8192\",\"33\":\"0\",\"34\":\"0\",\"35\":\"0\",\"36\":\"0\",\"37\":\"30\"}'\n",
      "Received PUBLISH (d0, q0, r0, m0), 'ek220', ...  (435 bytes)\n",
      "ek220 b'{\"1\":\"12.04.22.20 12:05:06\",\"2\":\"190507.7400\",\"3\":\"0.0\",\"4\":\"194477.4387\",\"5\":\"0.0\",\"6\":\"24\",\"7\":\"1.4000\",\"8\":\"1.4400\",\"9\":\"1.0478\",\"10\":\"20.8400\",\"11\":\"1.0313\",\"12\":\"0.9999\",\"13\":\"0.8313\",\"14\":\"Nerimanov\",\"15\":\"0\",\"16\":\"0\",\"17\":\"0\",\"18\":\"0\",\"19\":\"0\",\"20\":\"0\",\"21\":\"0\",\"22\":\"0\",\"23\":\"0\",\"24\":\"0\",\"25\":\"0\",\"26\":\"45056\",\"27\":\"4096\",\"28\":\"40960\",\"29\":\"0\",\"30\":\"32768\",\"31\":\"8192\",\"32\":\"8192\",\"33\":\"0\",\"34\":\"0\",\"35\":\"0\",\"36\":\"0\",\"37\":\"30\"}'\n",
      "Sending PINGREQ\n",
      "Received PINGRESP\n",
      "Received PUBLISH (d0, q0, r0, m0), 'ek220', ...  (435 bytes)\n",
      "ek220 b'{\"1\":\"12.04.22.20 12:05:28\",\"2\":\"190507.8400\",\"3\":\"0.0\",\"4\":\"194477.5418\",\"5\":\"0.0\",\"6\":\"24\",\"7\":\"6.8000\",\"8\":\"7.0100\",\"9\":\"1.0480\",\"10\":\"20.8500\",\"11\":\"1.0314\",\"12\":\"0.9999\",\"13\":\"0.8313\",\"14\":\"Nerimanov\",\"15\":\"0\",\"16\":\"0\",\"17\":\"0\",\"18\":\"0\",\"19\":\"0\",\"20\":\"0\",\"21\":\"0\",\"22\":\"0\",\"23\":\"0\",\"24\":\"0\",\"25\":\"0\",\"26\":\"45056\",\"27\":\"4096\",\"28\":\"40960\",\"29\":\"0\",\"30\":\"32768\",\"31\":\"8192\",\"32\":\"8192\",\"33\":\"0\",\"34\":\"0\",\"35\":\"0\",\"36\":\"0\",\"37\":\"30\"}'\n",
      "Received PUBLISH (d0, q0, r0, m0), 'ek220', ...  (435 bytes)\n",
      "ek220 b'{\"1\":\"12.04.22.20 12:05:50\",\"2\":\"190507.8400\",\"3\":\"0.0\",\"4\":\"194477.5418\",\"5\":\"0.0\",\"6\":\"24\",\"7\":\"6.8000\",\"8\":\"7.0100\",\"9\":\"1.0480\",\"10\":\"20.8700\",\"11\":\"1.0313\",\"12\":\"0.9999\",\"13\":\"0.8313\",\"14\":\"Nerimanov\",\"15\":\"0\",\"16\":\"0\",\"17\":\"0\",\"18\":\"0\",\"19\":\"0\",\"20\":\"0\",\"21\":\"0\",\"22\":\"0\",\"23\":\"0\",\"24\":\"0\",\"25\":\"0\",\"26\":\"45056\",\"27\":\"4096\",\"28\":\"40960\",\"29\":\"0\",\"30\":\"32768\",\"31\":\"8192\",\"32\":\"8192\",\"33\":\"0\",\"34\":\"0\",\"35\":\"0\",\"36\":\"0\",\"37\":\"30\"}'\n",
      "Received PUBLISH (d0, q0, r0, m0), 'ek220', ...  (436 bytes)\n",
      "ek220 b'{\"1\":\"12.04.22.20 12:06:14\",\"2\":\"190507.9400\",\"3\":\"0.0\",\"4\":\"194477.6451\",\"5\":\"0.0\",\"6\":\"24\",\"7\":\"9.7000\",\"8\":\"10.0000\",\"9\":\"1.0487\",\"10\":\"20.8800\",\"11\":\"1.0319\",\"12\":\"0.9999\",\"13\":\"0.8313\",\"14\":\"Nerimanov\",\"15\":\"0\",\"16\":\"0\",\"17\":\"0\",\"18\":\"0\",\"19\":\"0\",\"20\":\"0\",\"21\":\"0\",\"22\":\"0\",\"23\":\"0\",\"24\":\"0\",\"25\":\"0\",\"26\":\"45056\",\"27\":\"4096\",\"28\":\"40960\",\"29\":\"0\",\"30\":\"32768\",\"31\":\"8192\",\"32\":\"8192\",\"33\":\"0\",\"34\":\"0\",\"35\":\"0\",\"36\":\"0\",\"37\":\"30\"}'\n"
     ]
    },
    {
     "ename": "KeyboardInterrupt",
     "evalue": "",
     "output_type": "error",
     "traceback": [
      "\u001b[1;31m---------------------------------------------------------------------------\u001b[0m",
      "\u001b[1;31mKeyboardInterrupt\u001b[0m                         Traceback (most recent call last)",
      "\u001b[1;31mKeyboardInterrupt\u001b[0m: "
     ]
    }
   ],
   "source": [
    "import paho.mqtt.client as mqtt\n",
    "from datetime import datetime\n",
    "\n",
    "my_dict = {'Vaxt (ISO format)':[],\n",
    "           'Vaxt (real)':[],\n",
    "           'Mexaniki göstərici - VmT(m3)':[],\n",
    "           'Elektron göstərici - VbT(m3)':[],\n",
    "           'Ölçmə şəraitində sərfiyyat - Qm(m3/h)':[],\n",
    "           'Baza şəraitində sərfiyyat - Qb(m3/h)':[],\n",
    "           'Təzyiq - p(bar)':[],\n",
    "           'Temperatur - T(C)':[],\n",
    "           'Korreksiya əmsalı - C':[],\n",
    "           'Qazın sıxılma əmsalı - K':[],\n",
    "           'Baza şəraitində xüsusi çəki - Rhob(kg/m3)':[],\n",
    "           'VmD - VmD(m3)':[],\n",
    "           'VbD - VbD(m3)':[]}\n",
    "\n",
    "def on_connect(client, userdata, flags, rc):\n",
    "    print(\"Connected with result code \" + str(rc))\n",
    "    client.subscribe('ek220', qos = 0)\n",
    "\n",
    "def on_log(client, userdata, level, buff):\n",
    "    print(buff)\n",
    "    \n",
    "def on_message(client, userdata, msg):\n",
    "    print(msg.topic + \" \" + str(msg.payload))\n",
    "    \n",
    "    string = str(msg.payload)\n",
    "    string = string[3:len(string)-2]   \n",
    "    my_list = string.split(',')  \n",
    "    now = datetime.now()\n",
    "    current_time = now.strftime(\"%d.%m.%Y %H:%M:%S\")\n",
    "\n",
    "    my_dict['Vaxt (ISO format)'].append(now)\n",
    "    my_dict['Vaxt (real)'].append(current_time)\n",
    "    for i in range(len(my_list)):\n",
    "        if i == 1:\n",
    "            if my_list[i][5:len(my_list[i])-1] == '':\n",
    "                my_dict['Mexaniki göstərici - VmT(m3)'].append(None)\n",
    "            else:\n",
    "                my_dict['Mexaniki göstərici - VmT(m3)'].append(float(my_list[i][5:len(my_list[i])-1]))\n",
    "        elif i == 2:\n",
    "            if my_list[i][5:len(my_list[i])-1] == '':\n",
    "                my_dict['VmD - VmD(m3)'].append(None)\n",
    "            else:\n",
    "                my_dict['VmD - VmD(m3)'].append(float(my_list[i][5:len(my_list[i])-1]))\n",
    "        elif i == 3:\n",
    "            if my_list[i][5:len(my_list[i])-1] == '':\n",
    "                my_dict['Elektron göstərici - VbT(m3)'].append(None)\n",
    "            else:\n",
    "                my_dict['Elektron göstərici - VbT(m3)'].append(float(my_list[i][5:len(my_list[i])-1]))\n",
    "        elif i == 4:\n",
    "            if my_list[i][5:len(my_list[i])-1] == '':\n",
    "                my_dict['VbD - VbD(m3)'].append(None)\n",
    "            else:\n",
    "                my_dict['VbD - VbD(m3)'].append(float(my_list[i][5:len(my_list[i])-1]))\n",
    "        elif i == 6:\n",
    "            if my_list[i][5:len(my_list[i])-1] == '':\n",
    "                my_dict['Ölçmə şəraitində sərfiyyat - Qm(m3/h)'].append(None)\n",
    "            else:\n",
    "                my_dict['Ölçmə şəraitində sərfiyyat - Qm(m3/h)'].append(float(my_list[i][5:len(my_list[i])-1]))\n",
    "        elif i == 7:\n",
    "            if my_list[i][5:len(my_list[i])-1] == '':\n",
    "                my_dict['Baza şəraitində sərfiyyat - Qb(m3/h)'].append(None)\n",
    "            else:\n",
    "                my_dict['Baza şəraitində sərfiyyat - Qb(m3/h)'].append(float(my_list[i][5:len(my_list[i])-1]))\n",
    "        elif i == 8:\n",
    "            if my_list[i][5:len(my_list[i])-1] == '':\n",
    "                my_dict['Təzyiq - p(bar)'].append(None)\n",
    "            else:\n",
    "                my_dict['Təzyiq - p(bar)'].append(float(my_list[i][5:len(my_list[i])-1]))\n",
    "        elif i == 9:\n",
    "            if my_list[i][6:len(my_list[i])-1] == '':\n",
    "                my_dict['Temperatur - T(C)'].append(None)\n",
    "            else:\n",
    "                my_dict['Temperatur - T(C)'].append(float(my_list[i][6:len(my_list[i])-1]))\n",
    "        elif i == 10:\n",
    "            if my_list[i][6:len(my_list[i])-1] == '':\n",
    "                my_dict['Korreksiya əmsalı - C'].append(None)\n",
    "            else:\n",
    "                my_dict['Korreksiya əmsalı - C'].append(float(my_list[i][6:len(my_list[i])-1]))\n",
    "        elif i == 11:\n",
    "            if my_list[i][6:len(my_list[i])-1] == '':\n",
    "                my_dict['Qazın sıxılma əmsalı - K'].append(None)\n",
    "            else:\n",
    "                my_dict['Qazın sıxılma əmsalı - K'].append(float(my_list[i][6:len(my_list[i])-1]))\n",
    "        elif i == 12:\n",
    "            if my_list[i][6:len(my_list[i])-1] == '':\n",
    "                my_dict['Baza şəraitində xüsusi çəki - Rhob(kg/m3)'].append(None)\n",
    "            else:\n",
    "                my_dict['Baza şəraitində xüsusi çəki - Rhob(kg/m3)'].append(float(my_list[i][6:len(my_list[i])-1]))\n",
    "    \n",
    "client = mqtt.Client(\"Erturk\")\n",
    "client.username_pw_set(username = \"***\", password = \"***\")\n",
    "client.on_log = on_log\n",
    "client.on_connect = on_connect\n",
    "client.on_message = on_message\n",
    "\n",
    "print(\"Connecting to broker.\")\n",
    "try:\n",
    "    client.connect(host = \"***.***.***.***\", port = 1883, keepalive = 60, bind_address = \"\")\n",
    "except:\n",
    "    print(\"Connection failed!\")\n",
    "    exit(1)\n",
    "\n",
    "client.loop_forever()"
   ]
  },
  {
   "cell_type": "markdown",
   "metadata": {},
   "source": [
    "Check if there is any problem while receiving data.\n",
    "\n",
    "One of the anomalies that can occur during this process may be related to the timestamp data because one of the power source of EK-220 devices is solar panel. So, if solar panel stops working, GSM modem also stops working. Thus, we can understand at which time modem did not work appropriately from timestamp data."
   ]
  },
  {
   "cell_type": "code",
   "execution_count": 38,
   "metadata": {},
   "outputs": [
    {
     "name": "stdout",
     "output_type": "stream",
     "text": [
      "21.96 saniyə\n",
      "1 dəqiqə 48.54 saniyə\n",
      "21.51 saniyə\n",
      "21.78 saniyə\n",
      "21.60 saniyə\n",
      "21.55 saniyə\n",
      "21.54 saniyə\n",
      "21.55 saniyə\n",
      "21.85 saniyə\n",
      "21.89 saniyə\n",
      "22.02 saniyə\n",
      "22.02 saniyə\n",
      "22.61 saniyə\n",
      "23.51 saniyə\n"
     ]
    }
   ],
   "source": [
    "from decimal import Decimal\n",
    "\n",
    "for i in range(len(my_dict['Vaxt (ISO format)']) - 1):\n",
    "    difference = my_dict['Vaxt (ISO format)'][i + 1] - my_dict['Vaxt (ISO format)'][i]\n",
    "    total_seconds = float(difference.total_seconds())\n",
    "    hours, remainder = divmod(total_seconds, 60 * 60)\n",
    "    minutes, seconds = divmod(remainder, 60)\n",
    "    if int(hours) == 0 and int(minutes) == 0:\n",
    "        print('{} saniyə'.format(round(Decimal(seconds), 2)))\n",
    "    elif int(hours) == 0:\n",
    "        print('{} dəqiqə {} saniyə'.format(int(minutes), round(Decimal(seconds), 2)))\n",
    "    else:\n",
    "        print('{} saat {} dəqiqə {} saniyə'.format(int(hours), int(minutes), round(Decimal(seconds), 2)))"
   ]
  },
  {
   "cell_type": "markdown",
   "metadata": {},
   "source": [
    "Another anomaly that can occur during this process may be related to the 'NULL' data for any parameter because when EK-220 device is working, it must send logical value. So, if it does not send any value, it means that corrector stopped working. Thus, we can understand at which time corrector did not work appropriately from any parameter."
   ]
  },
  {
   "cell_type": "code",
   "execution_count": 39,
   "metadata": {},
   "outputs": [
    {
     "name": "stdout",
     "output_type": "stream",
     "text": [
      "No problem!\n"
     ]
    }
   ],
   "source": [
    "for i in range(len(my_dict['Temperatur - T(C)'])):\n",
    "    if my_dict['Temperatur - T(C)'][i] is None:\n",
    "        print(f\"There is problem in corrector data at time {my_dict['Vaxt (real)'][i]}\")\n",
    "    elif i == len(my_dict['Temperatur - T(C)']) - 1:\n",
    "        print('No problem!')"
   ]
  },
  {
   "cell_type": "markdown",
   "metadata": {},
   "source": [
    "Since the output of timestamp data is 1 minute 48.54 seconds in one instance, it is almost one and a half minute lag.\n",
    "\n",
    "So, let's check whether there is any problem in that period."
   ]
  },
  {
   "cell_type": "code",
   "execution_count": 34,
   "metadata": {},
   "outputs": [
    {
     "name": "stdout",
     "output_type": "stream",
     "text": [
      "Mexaniki göstərici - VmT(m3) : [190507.4, 190507.34, 190507.64]\n",
      "Elektron göstərici - VbT(m3) : [194476.7196, 194477.269, 194477.3353]\n",
      "Ölçmə şəraitində sərfiyyat - Qm(m3/h) : [52.3, 52.8, 4.0]\n",
      "Baza şəraitində sərfiyyat - Qb(m3/h) : [53.4, 54.0, 4.15]\n",
      "Təzyiq - p(bar) : [1.037, 1.0392, 1.0549]\n",
      "Temperatur - T(C) : [20.72, 20.78, 20.87]\n",
      "Korreksiya əmsalı - C : [1.021, 1.0229, 1.0382]\n",
      "Qazın sıxılma əmsalı - K : [0.9999, 1.0, 0.9999]\n",
      "Baza şəraitində xüsusi çəki - Rhob(kg/m3) : [0.8313, 0.8313, 0.8313]\n",
      "VmD - VmD(m3) : [0.0, 0.0, 0.0]\n",
      "VbD - VbD(m3) : [0.0, 0.0, 0.0]\n"
     ]
    }
   ],
   "source": [
    "for key, value in my_dict.items():\n",
    "    if key not in ('Vaxt (ISO format)', 'Vaxt (real)'):\n",
    "        print(key, ':', value[0:3])"
   ]
  }
 ],
 "metadata": {
  "kernelspec": {
   "display_name": "Python 3",
   "language": "python",
   "name": "python3"
  },
  "language_info": {
   "codemirror_mode": {
    "name": "ipython",
    "version": 3
   },
   "file_extension": ".py",
   "mimetype": "text/x-python",
   "name": "python",
   "nbconvert_exporter": "python",
   "pygments_lexer": "ipython3",
   "version": "3.7.3"
  }
 },
 "nbformat": 4,
 "nbformat_minor": 2
}
