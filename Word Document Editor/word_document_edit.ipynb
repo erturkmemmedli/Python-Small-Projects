{
 "cells": [
  {
   "cell_type": "code",
   "execution_count": 1,
   "metadata": {},
   "outputs": [
    {
     "name": "stdout",
     "output_type": "stream",
     "text": [
      "Requirement already satisfied: python-docx in c:\\programdata\\anaconda3\\lib\\site-packages (0.8.11)\n",
      "Requirement already satisfied: lxml>=2.3.2 in c:\\programdata\\anaconda3\\lib\\site-packages (from python-docx) (4.3.2)\n",
      "Note: you may need to restart the kernel to use updated packages.\n"
     ]
    }
   ],
   "source": [
    "pip install python-docx"
   ]
  },
  {
   "cell_type": "code",
   "execution_count": 73,
   "metadata": {},
   "outputs": [],
   "source": [
    "from docx import Document\n",
    "import os\n",
    "\n",
    "template_file_path = 'C:/Users/HP/Documents/Python3/Test.docx'\n",
    "output_file_path = 'C:/Users/HP/Documents/Python3/Result.docx'\n",
    "\n",
    "variables = {\n",
    "    \"$EMPLOYEENAME$\": \"Ayturan Fətəlisoy Famil oğlu\",\n",
    "    \"$EMPLOYEEWORKPLACE$\": \"ƏƏSMN\",\n",
    "    \"$EMPLOYEETITLE$\": \"Specialist\",\n",
    "    \"$EMPLOYEEADDRESS$\": \"Quzanlı, Ağdam\",\n",
    "    \"$EMPLOYEEPHONE$\": \"+994-505000000\",\n",
    "    \"$EMPLOYEEEMAIL$\": \"ayturan@example.com\",\n",
    "    \"$BIRTHDATE$\": \"31 May, 1993\",\n",
    "    \"$SALARYAMOUNT$\": \"10,000 AZN\"\n",
    "}\n",
    "\n",
    "template_document = Document(template_file_path)\n",
    "\n",
    "def replace_text_in_paragraph(paragraph, key, value):\n",
    "    #print(paragraph.text)\n",
    "    if key in paragraph.text:\n",
    "        inline = paragraph.runs\n",
    "        for item in inline:\n",
    "            #print('item -----', item.text)\n",
    "            #print('key ------', key)\n",
    "            if item.text in key:\n",
    "                #print('-----Cool-----')\n",
    "                item.text = item.text.replace(key, value)\n",
    "\n",
    "for variable_key, variable_value in variables.items():\n",
    "    for paragraph in template_document.paragraphs:\n",
    "        replace_text_in_paragraph(paragraph, variable_key, variable_value)\n",
    "\n",
    "    for table in template_document.tables:\n",
    "        for col in table.columns:\n",
    "            for cell in col.cells:\n",
    "                for paragraph in cell.paragraphs:\n",
    "                    replace_text_in_paragraph(paragraph, variable_key, variable_value)\n",
    "\n",
    "template_document.save(output_file_path)"
   ]
  }
 ],
 "metadata": {
  "kernelspec": {
   "display_name": "Python 3",
   "language": "python",
   "name": "python3"
  },
  "language_info": {
   "codemirror_mode": {
    "name": "ipython",
    "version": 3
   },
   "file_extension": ".py",
   "mimetype": "text/x-python",
   "name": "python",
   "nbconvert_exporter": "python",
   "pygments_lexer": "ipython3",
   "version": "3.7.3"
  }
 },
 "nbformat": 4,
 "nbformat_minor": 2
}
