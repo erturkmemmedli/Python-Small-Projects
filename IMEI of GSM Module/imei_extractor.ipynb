{
 "cells": [
  {
   "cell_type": "code",
   "execution_count": 4,
   "metadata": {},
   "outputs": [
    {
     "name": "stdout",
     "output_type": "stream",
     "text": [
      "Collecting pyserial\n",
      "  Using cached https://files.pythonhosted.org/packages/07/bc/587a445451b253b285629263eb51c2d8e9bcea4fc97826266d186f96f558/pyserial-3.5-py2.py3-none-any.whl\n",
      "Installing collected packages: pyserial\n",
      "Successfully installed pyserial-3.5\n"
     ]
    }
   ],
   "source": [
    "!pip install pyserial"
   ]
  },
  {
   "cell_type": "code",
   "execution_count": 7,
   "metadata": {},
   "outputs": [
    {
     "name": "stdout",
     "output_type": "stream",
     "text": [
      "b'ets Jun  8 2016 00:22:57\\r\\n'\n",
      "b'\\r\\n'\n",
      "b'rst:0x1 (POWERON_RESETJI\\xbd\\xbd\\xd1\\xe90x17B\\x9aA%}\\x19\\x05MQ}\\x191\\x05M!}\\t==Q\\xa5\\r\\n'\n",
      "b'configsip: 0, SPIWP:0xee\\r\\n'\n",
      "b'clk_drv:0x00,q_drv:0x00,dE\\xc9\\xd9\\xe90x00,cs0_drv:0x00,hd_drv:0x00,wp_drv:0x00\\r\\n'\n",
      "b'mode:DIO, clock div:2\\r\\n'\n",
      "b'load:0x3fff0030,len:4\\r\\n'\n",
      "b'load:0x3f\\x96\\x16\\x82\\x9a\\xa2bb\\x95\\xb9\\xe91380\\r\\n'\n",
      "b'load:0x40078000,len:12068\\r\\n'\n",
      "b'ho 0 tail 12 room 4\\r\\n'\n",
      "b'load:0x40080400,len:4088\\r\\n'\n",
      "b'entry 0x40080660\\r\\n'\n",
      "b'modem mode =1\\r\\n'\n",
      "b' 1, 2, 248, 248, 180, 22, 7, 10, 0, 0, 10, 0, 1, 10, 0, 2, 10, 0, 3, 10, 0, 4, 10, 0, 5, 10, 0, 7 \\r\\n'\n",
      "b' 1, 2, 248, 248, 180, 22, 7, 10, 1, 0, 10, 1, 1, 10, 1, 2, 10, 1, 3, 10, 1, 4, 10, 1, 5, 10, 1, 7 \\r\\n'\n",
      "b' 1, 2, 248, 248, 180, 22, 7, 10, 2, 0, 10, 2, 1, 10, 2, 2, 10, 2, 3, 10, 2, 4, 10, 2, 5, 10, 2, 7 \\r\\n'\n",
      "b' 1, 2, 248, 248, 180, 22, 7, 10, 3, 0, 10, 3, 1, 10, 3, 2, 10, 3, 3, 10, 3, 4, 10, 3, 5, 10, 3, 7 \\r\\n'\n",
      "b'{\"command\":\"configfile\",\"network\":{\"imei\":\"\"},\"hardware\":{\"rs232_baud\":\"9600\"},\"other\":{\"mode\":\"1\",\"rocklink_mvs\":\"3\",\"point0\":\"999\",\"parameter0\":\"9\",\"point1\":\"999\",\"parameter1\":\"9\"},\"gps\":{\"latitude\":\"\",\"longitude\":\"\"},\"general\":{\"restart\":\"3600\",\"pswd\":\"admin\",\"version\":\"1.2\"},\"mqtt\":{\"enabled\":\"0\",\"host\":\"192.168.14.215\",\"port\":\"1883\",\"topic\":\"test123\",\"user\":\"demomqtt\",\"pswd\":\"demomqtt\"},\"log\":{\"enabled\":\"1\"}}\\r\\n'\n",
      "b'Config BTN 1\\r\\n'\n",
      "b'AT RESPONSE: [..OK..]\\r\\n'\n",
      "b'AT RESPONSE: [..OK..]\\r\\n'\n",
      "b'GSM RESET DONE\\r\\n'\n",
      "b'AT RESPONSE: [..RDY....+CPIN: READY....SMS DONE....PB DONE..]\\r\\n'\n",
      "b'GSM READY\\r\\n'\n",
      "b'AT RESPONSE: [..OK..]\\r\\n'\n",
      "b'AT RESPONSE: [..OK..]\\r\\n'\n",
      "b'ECHO DISABLED\\r\\n'\n",
      "b'AT RESPONSE: [..OK..]\\r\\n'\n",
      "b'Config Saved\\r\\n'\n",
      "b'Mac: 3c:71:bf:74:89:c8\\r\\n'\n",
      "b'MODEL: SIMCOM_SIM7600CE-L1S\\r\\n'\n",
      "b'IMEI: 355211010096166\\r\\n'\n"
     ]
    }
   ],
   "source": [
    "import re\n",
    "import csv\n",
    "import serial\n",
    "\n",
    "ser = serial.Serial()\n",
    "ser.port = \"COM4\"\n",
    "ser.baudrate = 115200\n",
    "ser.bytesize = serial.EIGHTBITS\n",
    "ser.parity = serial.PARITY_NONE\n",
    "ser.stopbits = serial.STOPBITS_ONE\n",
    "ser.open()\n",
    "\n",
    "while True:\n",
    "    string = str(ser.readline())\n",
    "    print(string)\n",
    "    if \"IMEI:\" in string:\n",
    "        imei = re.findall('[\\bIMEI:] (\\d+[0-9]+\\d)', string)\n",
    "        with open('IMEI.csv', mode='a', newline = '') as x:\n",
    "            writer = csv.writer(x)\n",
    "            for i in imei:\n",
    "                writer.writerow([imei[0]])\n",
    "        break"
   ]
  }
 ],
 "metadata": {
  "kernelspec": {
   "display_name": "Python 3",
   "language": "python",
   "name": "python3"
  },
  "language_info": {
   "codemirror_mode": {
    "name": "ipython",
    "version": 3
   },
   "file_extension": ".py",
   "mimetype": "text/x-python",
   "name": "python",
   "nbconvert_exporter": "python",
   "pygments_lexer": "ipython3",
   "version": "3.7.3"
  }
 },
 "nbformat": 4,
 "nbformat_minor": 2
}
